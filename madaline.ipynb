{
 "cells": [
  {
   "cell_type": "markdown",
   "metadata": {},
   "source": [
    "### add primary imports"
   ]
  },
  {
   "cell_type": "code",
   "execution_count": 1,
   "metadata": {},
   "outputs": [],
   "source": [
    "import numpy as np\n",
    "import pandas as pd\n",
    "from matplotlib import pyplot as plt "
   ]
  },
  {
   "cell_type": "markdown",
   "metadata": {},
   "source": [
    "### read  data set file"
   ]
  },
  {
   "cell_type": "code",
   "execution_count": 2,
   "metadata": {},
   "outputs": [
    {
     "data": {
      "text/html": [
       "<div>\n",
       "<style scoped>\n",
       "    .dataframe tbody tr th:only-of-type {\n",
       "        vertical-align: middle;\n",
       "    }\n",
       "\n",
       "    .dataframe tbody tr th {\n",
       "        vertical-align: top;\n",
       "    }\n",
       "\n",
       "    .dataframe thead th {\n",
       "        text-align: right;\n",
       "    }\n",
       "</style>\n",
       "<table border=\"1\" class=\"dataframe\">\n",
       "  <thead>\n",
       "    <tr style=\"text-align: right;\">\n",
       "      <th></th>\n",
       "      <th>X1</th>\n",
       "      <th>X2</th>\n",
       "      <th>label</th>\n",
       "    </tr>\n",
       "  </thead>\n",
       "  <tbody>\n",
       "    <tr>\n",
       "      <th>0</th>\n",
       "      <td>-0.642823</td>\n",
       "      <td>0.720606</td>\n",
       "      <td>0</td>\n",
       "    </tr>\n",
       "    <tr>\n",
       "      <th>1</th>\n",
       "      <td>-0.218126</td>\n",
       "      <td>0.677263</td>\n",
       "      <td>0</td>\n",
       "    </tr>\n",
       "    <tr>\n",
       "      <th>2</th>\n",
       "      <td>-0.582930</td>\n",
       "      <td>-0.347496</td>\n",
       "      <td>0</td>\n",
       "    </tr>\n",
       "    <tr>\n",
       "      <th>3</th>\n",
       "      <td>0.285127</td>\n",
       "      <td>0.091750</td>\n",
       "      <td>0</td>\n",
       "    </tr>\n",
       "    <tr>\n",
       "      <th>4</th>\n",
       "      <td>-0.335577</td>\n",
       "      <td>-0.313893</td>\n",
       "      <td>0</td>\n",
       "    </tr>\n",
       "    <tr>\n",
       "      <th>...</th>\n",
       "      <td>...</td>\n",
       "      <td>...</td>\n",
       "      <td>...</td>\n",
       "    </tr>\n",
       "    <tr>\n",
       "      <th>195</th>\n",
       "      <td>0.744066</td>\n",
       "      <td>-1.206548</td>\n",
       "      <td>1</td>\n",
       "    </tr>\n",
       "    <tr>\n",
       "      <th>196</th>\n",
       "      <td>-0.457547</td>\n",
       "      <td>1.286227</td>\n",
       "      <td>1</td>\n",
       "    </tr>\n",
       "    <tr>\n",
       "      <th>197</th>\n",
       "      <td>-1.020000</td>\n",
       "      <td>-0.783926</td>\n",
       "      <td>1</td>\n",
       "    </tr>\n",
       "    <tr>\n",
       "      <th>198</th>\n",
       "      <td>1.363429</td>\n",
       "      <td>-0.800250</td>\n",
       "      <td>1</td>\n",
       "    </tr>\n",
       "    <tr>\n",
       "      <th>199</th>\n",
       "      <td>-1.246702</td>\n",
       "      <td>-0.388615</td>\n",
       "      <td>1</td>\n",
       "    </tr>\n",
       "  </tbody>\n",
       "</table>\n",
       "<p>200 rows × 3 columns</p>\n",
       "</div>"
      ],
      "text/plain": [
       "           X1        X2  label\n",
       "0   -0.642823  0.720606      0\n",
       "1   -0.218126  0.677263      0\n",
       "2   -0.582930 -0.347496      0\n",
       "3    0.285127  0.091750      0\n",
       "4   -0.335577 -0.313893      0\n",
       "..        ...       ...    ...\n",
       "195  0.744066 -1.206548      1\n",
       "196 -0.457547  1.286227      1\n",
       "197 -1.020000 -0.783926      1\n",
       "198  1.363429 -0.800250      1\n",
       "199 -1.246702 -0.388615      1\n",
       "\n",
       "[200 rows x 3 columns]"
      ]
     },
     "execution_count": 2,
     "metadata": {},
     "output_type": "execute_result"
    }
   ],
   "source": [
    "data = pd.read_csv(\"MadaLine.csv\")\n",
    "data"
   ]
  },
  {
   "cell_type": "markdown",
   "metadata": {},
   "source": [
    "## preprocessing\n",
    "change label 0 to -1 For more explicit calculation"
   ]
  },
  {
   "cell_type": "code",
   "execution_count": 3,
   "metadata": {},
   "outputs": [
    {
     "data": {
      "text/html": [
       "<div>\n",
       "<style scoped>\n",
       "    .dataframe tbody tr th:only-of-type {\n",
       "        vertical-align: middle;\n",
       "    }\n",
       "\n",
       "    .dataframe tbody tr th {\n",
       "        vertical-align: top;\n",
       "    }\n",
       "\n",
       "    .dataframe thead th {\n",
       "        text-align: right;\n",
       "    }\n",
       "</style>\n",
       "<table border=\"1\" class=\"dataframe\">\n",
       "  <thead>\n",
       "    <tr style=\"text-align: right;\">\n",
       "      <th></th>\n",
       "      <th>X1</th>\n",
       "      <th>X2</th>\n",
       "      <th>label</th>\n",
       "    </tr>\n",
       "  </thead>\n",
       "  <tbody>\n",
       "    <tr>\n",
       "      <th>0</th>\n",
       "      <td>-0.642823</td>\n",
       "      <td>0.720606</td>\n",
       "      <td>-1</td>\n",
       "    </tr>\n",
       "    <tr>\n",
       "      <th>1</th>\n",
       "      <td>-0.218126</td>\n",
       "      <td>0.677263</td>\n",
       "      <td>-1</td>\n",
       "    </tr>\n",
       "    <tr>\n",
       "      <th>2</th>\n",
       "      <td>-0.582930</td>\n",
       "      <td>-0.347496</td>\n",
       "      <td>-1</td>\n",
       "    </tr>\n",
       "    <tr>\n",
       "      <th>3</th>\n",
       "      <td>0.285127</td>\n",
       "      <td>0.091750</td>\n",
       "      <td>-1</td>\n",
       "    </tr>\n",
       "    <tr>\n",
       "      <th>4</th>\n",
       "      <td>-0.335577</td>\n",
       "      <td>-0.313893</td>\n",
       "      <td>-1</td>\n",
       "    </tr>\n",
       "    <tr>\n",
       "      <th>...</th>\n",
       "      <td>...</td>\n",
       "      <td>...</td>\n",
       "      <td>...</td>\n",
       "    </tr>\n",
       "    <tr>\n",
       "      <th>195</th>\n",
       "      <td>0.744066</td>\n",
       "      <td>-1.206548</td>\n",
       "      <td>1</td>\n",
       "    </tr>\n",
       "    <tr>\n",
       "      <th>196</th>\n",
       "      <td>-0.457547</td>\n",
       "      <td>1.286227</td>\n",
       "      <td>1</td>\n",
       "    </tr>\n",
       "    <tr>\n",
       "      <th>197</th>\n",
       "      <td>-1.020000</td>\n",
       "      <td>-0.783926</td>\n",
       "      <td>1</td>\n",
       "    </tr>\n",
       "    <tr>\n",
       "      <th>198</th>\n",
       "      <td>1.363429</td>\n",
       "      <td>-0.800250</td>\n",
       "      <td>1</td>\n",
       "    </tr>\n",
       "    <tr>\n",
       "      <th>199</th>\n",
       "      <td>-1.246702</td>\n",
       "      <td>-0.388615</td>\n",
       "      <td>1</td>\n",
       "    </tr>\n",
       "  </tbody>\n",
       "</table>\n",
       "<p>200 rows × 3 columns</p>\n",
       "</div>"
      ],
      "text/plain": [
       "           X1        X2  label\n",
       "0   -0.642823  0.720606     -1\n",
       "1   -0.218126  0.677263     -1\n",
       "2   -0.582930 -0.347496     -1\n",
       "3    0.285127  0.091750     -1\n",
       "4   -0.335577 -0.313893     -1\n",
       "..        ...       ...    ...\n",
       "195  0.744066 -1.206548      1\n",
       "196 -0.457547  1.286227      1\n",
       "197 -1.020000 -0.783926      1\n",
       "198  1.363429 -0.800250      1\n",
       "199 -1.246702 -0.388615      1\n",
       "\n",
       "[200 rows x 3 columns]"
      ]
     },
     "execution_count": 3,
     "metadata": {},
     "output_type": "execute_result"
    }
   ],
   "source": [
    "data = data.replace(0,-1)\n",
    "data"
   ]
  },
  {
   "cell_type": "markdown",
   "metadata": {},
   "source": [
    "##### change data type"
   ]
  },
  {
   "cell_type": "code",
   "execution_count": 4,
   "metadata": {},
   "outputs": [
    {
     "name": "stdout",
     "output_type": "stream",
     "text": [
      "[[-0.64282255  0.72060647]\n",
      " [-0.21812607  0.67726261]\n",
      " [-0.58292983 -0.34749617]\n",
      " [ 0.28512668  0.09174997]\n",
      " [-0.33557667 -0.31389274]\n",
      " [ 0.31739521 -0.52331519]\n",
      " [-0.63941109 -0.17120822]\n",
      " [ 0.11580448  0.64575158]\n",
      " [ 0.18989616  0.89158849]\n",
      " [ 0.06790498 -0.60116898]]\n",
      "[-1. -1. -1. -1. -1. -1. -1. -1. -1. -1.]\n"
     ]
    }
   ],
   "source": [
    "data = np.asarray(data)\n",
    "\n",
    "feature_data = np.delete(data, 2, 1)\n",
    "label_data = np.asarray(data[:,2])\n",
    "\n",
    "\n",
    "print(feature_data[:10])\n",
    "print(label_data[:10])"
   ]
  },
  {
   "cell_type": "markdown",
   "metadata": {},
   "source": [
    "##### train and test split"
   ]
  },
  {
   "cell_type": "code",
   "execution_count": 5,
   "metadata": {},
   "outputs": [
    {
     "name": "stdout",
     "output_type": "stream",
     "text": [
      "Train set: (160, 2) (160,)\n",
      "Test set: (40, 2) (40,)\n"
     ]
    }
   ],
   "source": [
    "from sklearn.model_selection import train_test_split\n",
    "\n",
    "feature_data_train, feature_data_test, label_data_train, label_data_test = train_test_split( feature_data, label_data, test_size=0.2, random_state=4)\n",
    "print ('Train set:', feature_data_train.shape,  label_data_train.shape)\n",
    "print ('Test set:' , feature_data_test.shape,  label_data_test.shape)"
   ]
  },
  {
   "cell_type": "markdown",
   "metadata": {},
   "source": [
    "### Scatter plot"
   ]
  },
  {
   "cell_type": "code",
   "execution_count": 6,
   "metadata": {},
   "outputs": [
    {
     "data": {
      "image/png": "[encoded data removed]",
      "text/plain": [
       "<Figure size 640x480 with 1 Axes>"
      ]
     },
     "metadata": {},
     "output_type": "display_data"
    }
   ],
   "source": [
    "x = np.ravel(data[:, 0])\n",
    "y = np.ravel(data[:, 1])\n",
    "colors = np.ravel(data[:, 2])\n",
    "\n",
    "plt.scatter(x, y, c=colors, cmap='bwr')\n",
    "plt.show()"
   ]
  },
  {
   "cell_type": "markdown",
   "metadata": {},
   "source": [
    "### Modeling"
   ]
  },
  {
   "cell_type": "code",
   "execution_count": 7,
   "metadata": {},
   "outputs": [],
   "source": [
    "class Madaline:\n",
    "    def __init__(self, lr, Number_of_neurons):\n",
    "        self.lr = lr\n",
    "        self.Number_of_neurons = Number_of_neurons  \n",
    "        self.w = np.asarray([[0.001]*self.Number_of_neurons for _ in range(feature_data.shape[1])])         # random wights\n",
    "        self.bias = [0.1]*self.Number_of_neurons+[0.5]                                                      # random bias (final neurons = 0.5)\n",
    "        self.v = [1/self.Number_of_neurons]*self.Number_of_neurons                                          # All v's must be equal\n",
    "\n",
    "\n",
    "    def fit(self, feature_data, label_data):\n",
    "        epoch = 50\n",
    "        for _ in range (epoch):                                                                             # Epoch  \n",
    "            for q in range (feature_data.shape[0]):                                                         # Row   \n",
    "                z_in = np.zeros(self.Number_of_neurons)  \n",
    "                z    = np.zeros(self.Number_of_neurons)\n",
    "                y = 0    \n",
    "                for j in range (self.Number_of_neurons):\n",
    "                    for i in range(feature_data.shape[1]): \n",
    "                        z_in[j] += feature_data[q,i]*self.w[i,j]\n",
    "                    z_in[j] += self.bias[j] \n",
    "                    z[j] = witch_class(z_in[j])    \n",
    "                    y += z[j]*self.v[j]\n",
    "                y += self.bias[self.Number_of_neurons]   \n",
    "                y = witch_class(y)\n",
    "                          \n",
    "                if y != label_data[q]:                                                                      # time for update wight an bias   \n",
    "                    if label_data[q]==1 :                                                                   # We will do updating process on whose absolute value is less                                                                                                                 \n",
    "                        min_index_z_in = np.argmin(np.abs(z_in))  \n",
    "                        for i in range(feature_data.shape[1]):\n",
    "                            self.w[i,min_index_z_in]  += self.lr*(1 - z_in[min_index_z_in])*feature_data[q,i]                   \n",
    "                        self.bias[min_index_z_in] += self.lr*(1 - z_in[min_index_z_in])\n",
    "                                \n",
    "                    if label_data[q]==-1 :                                                                  # All those whose z are positive will be updated\n",
    "                        n = 0\n",
    "                        for z_in_value in z_in:            \n",
    "                            if (z_in_value > 0):\n",
    "                                for i in range(feature_data.shape[1]):\n",
    "                                    self.w[i,n]  += self.lr*(-1 - z_in[i])*feature_data[q,i]                   \n",
    "                                self.bias[n] += self.lr*(-1 - z_in[n])\n",
    "                            n+=1\n",
    "        print(self.w)                               \n",
    "        \n",
    "        \n",
    "        \n",
    "        \n",
    "def witch_class (x):\n",
    "    if (x >= 0): x = 1      \n",
    "    else: x = -1\n",
    "    return x"
   ]
  }
 ],
 "metadata": {
  "kernelspec": {
   "display_name": "base",
   "language": "python",
   "name": "python3"
  },
  "language_info": {
   "codemirror_mode": {
    "name": "ipython",
    "version": 3
   },
   "file_extension": ".py",
   "mimetype": "text/x-python",
   "name": "python",
   "nbconvert_exporter": "python",
   "pygments_lexer": "ipython3",
   "version": "3.9.16"
  },
  "orig_nbformat": 4
 },
 "nbformat": 4,
 "nbformat_minor": 2
}
