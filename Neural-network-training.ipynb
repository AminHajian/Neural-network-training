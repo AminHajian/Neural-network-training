{
 "cells": [
  {
   "cell_type": "markdown",
   "metadata": {},
   "source": [
    "### Add primary imports"
   ]
  },
  {
   "cell_type": "code",
   "execution_count": 1,
   "metadata": {},
   "outputs": [],
   "source": [
    "import numpy as np\n",
    "from matplotlib import pyplot as plt \n",
    "from sklearn.datasets import make_blobs \n",
    "from numpy import random"
   ]
  },
  {
   "cell_type": "markdown",
   "metadata": {},
   "source": [
    "### Generate random data"
   ]
  },
  {
   "cell_type": "code",
   "execution_count": 2,
   "metadata": {},
   "outputs": [
    {
     "name": "stdout",
     "output_type": "stream",
     "text": [
      "[[-0.23654891 -0.02509509  1.        ]\n",
      " [-0.09758479 -0.009325    1.        ]\n",
      " [-0.0191551  -0.06626535  1.        ]\n",
      " [ 1.131728    1.09887941  0.        ]\n",
      " [ 0.99415198  1.25656121  0.        ]]\n"
     ]
    }
   ],
   "source": [
    "n=100\n",
    "xdata_mean_A , xdata_sigma_A = 0 , 0.1 \n",
    "ydata_mean_A , ydata_sigma_A = 0 , 0.4\n",
    "xdata_mean_B , xdata_sigma_B = 1 , 0.2\n",
    "ydata_mean_B , ydata_sigma_B = 1 , 0.2\n",
    "\n",
    "# generate random data\n",
    "Xdata_A = np.random.normal(xdata_mean_A , xdata_sigma_A , n) \n",
    "Ydata_A = np.random.normal(ydata_mean_A , xdata_sigma_A , n) \n",
    "\n",
    "Xdata_B = np.random.normal(xdata_mean_B , xdata_sigma_B , n)\n",
    "Ydata_B = np.random.normal(ydata_mean_B , ydata_sigma_B , n)\n",
    "\n",
    "## Insertion data into matrix\n",
    "# classA_matrix\n",
    "Xdata_A_matrix = np.matrix([Xdata_A])\n",
    "Ydata_A_matrix = np.matrix([Ydata_A])\n",
    "ClassA_matrix = np.concatenate((Xdata_A_matrix, Ydata_A_matrix))\n",
    "LabelA = np.ones(n)\n",
    "LabelA = np.matrix([LabelA])\n",
    "ClassA_matrix = np.concatenate((ClassA_matrix ,LabelA))\n",
    "ClassA_matrix = ClassA_matrix.transpose()\n",
    "\n",
    "# classB_matrix\n",
    "Xdata_B_matrix = np.matrix([Xdata_B])\n",
    "Ydata_B_matrix = np.matrix([Ydata_B])\n",
    "ClassB_matrix = np.concatenate((Xdata_B_matrix, Ydata_B_matrix))\n",
    "LabelB = np.zeros(n)\n",
    "LabelB = np.matrix([LabelB])\n",
    "ClassB_matrix = np.concatenate((ClassB_matrix ,LabelB))\n",
    "ClassB_matrix = ClassB_matrix.transpose()\n",
    "\n",
    "## Combining two matrices\n",
    "data = np.concatenate((ClassB_matrix, ClassA_matrix))\n",
    "# mix the matrix\n",
    "np.random.shuffle(data)\n",
    "print(data[:5])\n"
   ]
  },
  {
   "cell_type": "code",
   "execution_count": null,
   "metadata": {},
   "outputs": [],
   "source": []
  }
 ],
 "metadata": {
  "kernelspec": {
   "display_name": "base",
   "language": "python",
   "name": "python3"
  },
  "language_info": {
   "codemirror_mode": {
    "name": "ipython",
    "version": 3
   },
   "file_extension": ".py",
   "mimetype": "text/x-python",
   "name": "python",
   "nbconvert_exporter": "python",
   "pygments_lexer": "ipython3",
   "version": "3.9.16"
  },
  "orig_nbformat": 4
 },
 "nbformat": 4,
 "nbformat_minor": 2
}
